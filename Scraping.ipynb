{
 "cells": [
  {
   "cell_type": "code",
   "execution_count": 1,
   "metadata": {},
   "outputs": [],
   "source": [
    "import praw\n",
    "import pandas as pd\n",
    "reddit = praw.Reddit(client_id = 'F3ufdiyJp0KgMg',\n",
    "                     client_secret = 'gH9PK0Ry0MoFnyorfS4aYjUNdRc',\n",
    "                     username = 'GA_project_test',\n",
    "                     password = 'h@94ydptoar',\n",
    "                     user_agent = 'Mason')"
   ]
  },
  {
   "cell_type": "code",
   "execution_count": 2,
   "metadata": {},
   "outputs": [],
   "source": [
    "men_sub = reddit.subreddit('Askmen')\n",
    "\n",
    "men_top = men_sub.top(time_filter='month', limit=1000)\n",
    "\n",
    "men_titles = []\n",
    "men_comments = []\n",
    "for i in men_top:\n",
    "    men_titles.append(i.title)\n",
    "    try:\n",
    "        if 'locked' in i.comments[0].body:\n",
    "            men_comments.append(i.comments[1].body + ' was_locked')\n",
    "        else:\n",
    "            men_comments.append(i.comments[0].body)\n",
    "    except IndexError:\n",
    "        pass"
   ]
  },
  {
   "cell_type": "code",
   "execution_count": 3,
   "metadata": {},
   "outputs": [
    {
     "data": {
      "text/plain": [
       "1000"
      ]
     },
     "execution_count": 3,
     "metadata": {},
     "output_type": "execute_result"
    }
   ],
   "source": [
    "df_men_titles = pd.DataFrame({'subreddit': 'r/AskMen',\n",
    "                   'text':men_titles})\n",
    "df_men_titles.drop_duplicates(inplace=True)\n",
    "df_men_titles.reset_index(drop=True, inplace=True)\n",
    "len(df_men_titles)"
   ]
  },
  {
   "cell_type": "code",
   "execution_count": 4,
   "metadata": {},
   "outputs": [],
   "source": [
    "df_men_titles.to_csv('./datasets/men_titles.csv', index=False)"
   ]
  },
  {
   "cell_type": "code",
   "execution_count": 5,
   "metadata": {},
   "outputs": [
    {
     "data": {
      "text/plain": [
       "984"
      ]
     },
     "execution_count": 5,
     "metadata": {},
     "output_type": "execute_result"
    }
   ],
   "source": [
    "df_men_comments = pd.DataFrame({'subreddit': 'r/AskMen',\n",
    "                   'text':men_comments})\n",
    "df_men_comments.drop_duplicates(inplace=True)\n",
    "df_men_comments.reset_index(drop=True, inplace=True)\n",
    "len(df_men_comments)"
   ]
  },
  {
   "cell_type": "code",
   "execution_count": 6,
   "metadata": {},
   "outputs": [],
   "source": [
    "df_men_comments.to_csv('./datasets/men_comments.csv', index=False)"
   ]
  },
  {
   "cell_type": "code",
   "execution_count": 7,
   "metadata": {},
   "outputs": [],
   "source": [
    "women_sub = reddit.subreddit('AskWomen')\n",
    "\n",
    "women_top = women_sub.top(time_filter='month', limit=1000)\n",
    "\n",
    "women_titles = []\n",
    "women_comments = []\n",
    "for i in women_top:\n",
    "    women_titles.append(i.title)\n",
    "    try:\n",
    "        if 'locked' in i.comments[0].body:\n",
    "            women_comments.append(i.comments[1].body + ' was_locked')\n",
    "        else:\n",
    "            women_comments.append(i.comments[0].body)\n",
    "    except IndexError:\n",
    "        pass"
   ]
  },
  {
   "cell_type": "code",
   "execution_count": 8,
   "metadata": {},
   "outputs": [
    {
     "data": {
      "text/plain": [
       "997"
      ]
     },
     "execution_count": 8,
     "metadata": {},
     "output_type": "execute_result"
    }
   ],
   "source": [
    "df_women_titles = pd.DataFrame({'subreddit': 'r/AskWomen',\n",
    "                   'text':women_titles})\n",
    "df_women_titles.drop_duplicates(inplace=True)\n",
    "df_women_titles.reset_index(drop=True, inplace=True)\n",
    "len(df_women_titles)"
   ]
  },
  {
   "cell_type": "code",
   "execution_count": 9,
   "metadata": {},
   "outputs": [],
   "source": [
    "df_women_titles.to_csv('./datasets/women_titles.csv', index=False)"
   ]
  },
  {
   "cell_type": "code",
   "execution_count": 10,
   "metadata": {},
   "outputs": [
    {
     "data": {
      "text/plain": [
       "974"
      ]
     },
     "execution_count": 10,
     "metadata": {},
     "output_type": "execute_result"
    }
   ],
   "source": [
    "df_women_comments = pd.DataFrame({'subreddit': 'r/AskWomen',\n",
    "                   'text':women_comments})\n",
    "df_women_comments.drop_duplicates(inplace=True)\n",
    "len(df_women_comments)"
   ]
  },
  {
   "cell_type": "code",
   "execution_count": 11,
   "metadata": {},
   "outputs": [],
   "source": [
    "df_women_comments.to_csv('./datasets/women_comments.csv', index=False)"
   ]
  },
  {
   "cell_type": "code",
   "execution_count": 12,
   "metadata": {},
   "outputs": [],
   "source": [
    "final_df = pd.concat([df_women_titles, df_women_comments,\n",
    "                      df_men_titles, df_men_comments])\n",
    "final_df.reset_index(inplace=True, drop=True)"
   ]
  },
  {
   "cell_type": "code",
   "execution_count": 13,
   "metadata": {},
   "outputs": [
    {
     "data": {
      "text/html": [
       "<div>\n",
       "<style scoped>\n",
       "    .dataframe tbody tr th:only-of-type {\n",
       "        vertical-align: middle;\n",
       "    }\n",
       "\n",
       "    .dataframe tbody tr th {\n",
       "        vertical-align: top;\n",
       "    }\n",
       "\n",
       "    .dataframe thead th {\n",
       "        text-align: right;\n",
       "    }\n",
       "</style>\n",
       "<table border=\"1\" class=\"dataframe\">\n",
       "  <thead>\n",
       "    <tr style=\"text-align: right;\">\n",
       "      <th></th>\n",
       "      <th>subreddit</th>\n",
       "      <th>text</th>\n",
       "    </tr>\n",
       "  </thead>\n",
       "  <tbody>\n",
       "    <tr>\n",
       "      <th>0</th>\n",
       "      <td>r/AskWomen</td>\n",
       "      <td>What’s something you had to learn the ‘hard wa...</td>\n",
       "    </tr>\n",
       "    <tr>\n",
       "      <th>1</th>\n",
       "      <td>r/AskWomen</td>\n",
       "      <td>Have you ever discovered that your were the to...</td>\n",
       "    </tr>\n",
       "    <tr>\n",
       "      <th>2</th>\n",
       "      <td>r/AskWomen</td>\n",
       "      <td>How do you reconnect with friends after you've...</td>\n",
       "    </tr>\n",
       "    <tr>\n",
       "      <th>3</th>\n",
       "      <td>r/AskWomen</td>\n",
       "      <td>Screw all these relationship questions/questio...</td>\n",
       "    </tr>\n",
       "    <tr>\n",
       "      <th>4</th>\n",
       "      <td>r/AskWomen</td>\n",
       "      <td>Ladies who thought they’d never find another S...</td>\n",
       "    </tr>\n",
       "  </tbody>\n",
       "</table>\n",
       "</div>"
      ],
      "text/plain": [
       "    subreddit                                               text\n",
       "0  r/AskWomen  What’s something you had to learn the ‘hard wa...\n",
       "1  r/AskWomen  Have you ever discovered that your were the to...\n",
       "2  r/AskWomen  How do you reconnect with friends after you've...\n",
       "3  r/AskWomen  Screw all these relationship questions/questio...\n",
       "4  r/AskWomen  Ladies who thought they’d never find another S..."
      ]
     },
     "execution_count": 13,
     "metadata": {},
     "output_type": "execute_result"
    }
   ],
   "source": [
    "final_df.head()"
   ]
  },
  {
   "cell_type": "code",
   "execution_count": 14,
   "metadata": {},
   "outputs": [],
   "source": [
    "final_df.to_csv('./datasets/total.csv', index=False)"
   ]
  }
 ],
 "metadata": {
  "kernelspec": {
   "display_name": "Python 3",
   "language": "python",
   "name": "python3"
  },
  "language_info": {
   "codemirror_mode": {
    "name": "ipython",
    "version": 3
   },
   "file_extension": ".py",
   "mimetype": "text/x-python",
   "name": "python",
   "nbconvert_exporter": "python",
   "pygments_lexer": "ipython3",
   "version": "3.6.7"
  }
 },
 "nbformat": 4,
 "nbformat_minor": 2
}
